{
 "cells": [
  {
   "cell_type": "code",
   "execution_count": 4,
   "id": "333aeaed-ee5a-461c-a7ff-34721c7f2a1f",
   "metadata": {},
   "outputs": [],
   "source": [
    "import pandas as pd\n",
    "import numpy as np\n",
    "import random"
   ]
  },
  {
   "cell_type": "code",
   "execution_count": 2,
   "id": "2a776ec2-ac2a-463e-95f6-74aeddbfcd45",
   "metadata": {},
   "outputs": [],
   "source": [
    "df = pd.read_csv('Final_train_data.csv')"
   ]
  },
  {
   "cell_type": "code",
   "execution_count": 33,
   "id": "5a68a717-32c1-4a7b-9c74-17faffe6dfa8",
   "metadata": {},
   "outputs": [],
   "source": [
    "s=random.uniform(0.7,1.3)"
   ]
  },
  {
   "cell_type": "code",
   "execution_count": 35,
   "id": "b8051448-faab-4e12-9b94-de9a84610bdd",
   "metadata": {},
   "outputs": [],
   "source": [
    "df['NEW_CP'] = df['COMPETITOR_PRICE']*(random.uniform(0.7,1.3))"
   ]
  },
  {
   "cell_type": "code",
   "execution_count": 37,
   "id": "12ab6e43-d14c-41c0-9671-2b73f2ea182b",
   "metadata": {},
   "outputs": [
    {
     "data": {
      "text/html": [
       "<div>\n",
       "<style scoped>\n",
       "    .dataframe tbody tr th:only-of-type {\n",
       "        vertical-align: middle;\n",
       "    }\n",
       "\n",
       "    .dataframe tbody tr th {\n",
       "        vertical-align: top;\n",
       "    }\n",
       "\n",
       "    .dataframe thead th {\n",
       "        text-align: right;\n",
       "    }\n",
       "</style>\n",
       "<table border=\"1\" class=\"dataframe\">\n",
       "  <thead>\n",
       "    <tr style=\"text-align: right;\">\n",
       "      <th></th>\n",
       "      <th>DATE</th>\n",
       "      <th>PRODUCT_ID</th>\n",
       "      <th>SELLING_PRICE</th>\n",
       "      <th>COST_PRICE</th>\n",
       "      <th>COMPETITOR_PRICE</th>\n",
       "      <th>SALES</th>\n",
       "      <th>IS_PROMOTION</th>\n",
       "      <th>QUANTITY</th>\n",
       "      <th>CATEGORY</th>\n",
       "      <th>SUBCATEGORY</th>\n",
       "      <th>...</th>\n",
       "      <th>7_day_rolling_avg_quantity</th>\n",
       "      <th>1_day_lag_quantity</th>\n",
       "      <th>7_day_lag_quantity</th>\n",
       "      <th>Price_Above_Competitor</th>\n",
       "      <th>Price_Below_Competitor</th>\n",
       "      <th>Days_Since_Last_Promotion</th>\n",
       "      <th>Competitor_Price_Change</th>\n",
       "      <th>Selling_Price_Daily_Change</th>\n",
       "      <th>Profit_Margin</th>\n",
       "      <th>NEW_CP</th>\n",
       "    </tr>\n",
       "  </thead>\n",
       "  <tbody>\n",
       "    <tr>\n",
       "      <th>0</th>\n",
       "      <td>2020-01-01</td>\n",
       "      <td>1</td>\n",
       "      <td>361.072475</td>\n",
       "      <td>205.136907</td>\n",
       "      <td>364.659924</td>\n",
       "      <td>770167.5884</td>\n",
       "      <td>0.0</td>\n",
       "      <td>147.0</td>\n",
       "      <td>Bakery</td>\n",
       "      <td>Bread</td>\n",
       "      <td>...</td>\n",
       "      <td>147.0</td>\n",
       "      <td>NaN</td>\n",
       "      <td>NaN</td>\n",
       "      <td>0.0</td>\n",
       "      <td>1.0</td>\n",
       "      <td>0.0</td>\n",
       "      <td>0.0</td>\n",
       "      <td>0.0</td>\n",
       "      <td>155.935568</td>\n",
       "      <td>326.491797</td>\n",
       "    </tr>\n",
       "    <tr>\n",
       "      <th>1</th>\n",
       "      <td>2020-01-01</td>\n",
       "      <td>2</td>\n",
       "      <td>42.896200</td>\n",
       "      <td>36.296394</td>\n",
       "      <td>43.856067</td>\n",
       "      <td>170555.2912</td>\n",
       "      <td>0.0</td>\n",
       "      <td>204.0</td>\n",
       "      <td>Bakery</td>\n",
       "      <td>Cakes</td>\n",
       "      <td>...</td>\n",
       "      <td>204.0</td>\n",
       "      <td>NaN</td>\n",
       "      <td>NaN</td>\n",
       "      <td>0.0</td>\n",
       "      <td>1.0</td>\n",
       "      <td>0.0</td>\n",
       "      <td>0.0</td>\n",
       "      <td>0.0</td>\n",
       "      <td>6.599806</td>\n",
       "      <td>39.265752</td>\n",
       "    </tr>\n",
       "    <tr>\n",
       "      <th>2</th>\n",
       "      <td>2020-01-01</td>\n",
       "      <td>3</td>\n",
       "      <td>49.305021</td>\n",
       "      <td>25.475475</td>\n",
       "      <td>52.902257</td>\n",
       "      <td>113598.7675</td>\n",
       "      <td>0.0</td>\n",
       "      <td>520.0</td>\n",
       "      <td>Beverages</td>\n",
       "      <td>Soft Drinks</td>\n",
       "      <td>...</td>\n",
       "      <td>520.0</td>\n",
       "      <td>NaN</td>\n",
       "      <td>NaN</td>\n",
       "      <td>0.0</td>\n",
       "      <td>1.0</td>\n",
       "      <td>0.0</td>\n",
       "      <td>0.0</td>\n",
       "      <td>0.0</td>\n",
       "      <td>23.829546</td>\n",
       "      <td>47.365098</td>\n",
       "    </tr>\n",
       "    <tr>\n",
       "      <th>3</th>\n",
       "      <td>2020-01-01</td>\n",
       "      <td>4</td>\n",
       "      <td>192.328490</td>\n",
       "      <td>146.093738</td>\n",
       "      <td>203.120787</td>\n",
       "      <td>244257.1826</td>\n",
       "      <td>0.0</td>\n",
       "      <td>994.0</td>\n",
       "      <td>Cleaning</td>\n",
       "      <td>Wipes</td>\n",
       "      <td>...</td>\n",
       "      <td>994.0</td>\n",
       "      <td>NaN</td>\n",
       "      <td>NaN</td>\n",
       "      <td>0.0</td>\n",
       "      <td>1.0</td>\n",
       "      <td>0.0</td>\n",
       "      <td>0.0</td>\n",
       "      <td>0.0</td>\n",
       "      <td>46.234753</td>\n",
       "      <td>181.860595</td>\n",
       "    </tr>\n",
       "    <tr>\n",
       "      <th>4</th>\n",
       "      <td>2020-01-01</td>\n",
       "      <td>5</td>\n",
       "      <td>463.593618</td>\n",
       "      <td>258.965427</td>\n",
       "      <td>424.871669</td>\n",
       "      <td>543331.7209</td>\n",
       "      <td>0.0</td>\n",
       "      <td>699.0</td>\n",
       "      <td>Cleaning</td>\n",
       "      <td>Disinfectants</td>\n",
       "      <td>...</td>\n",
       "      <td>699.0</td>\n",
       "      <td>NaN</td>\n",
       "      <td>NaN</td>\n",
       "      <td>1.0</td>\n",
       "      <td>0.0</td>\n",
       "      <td>0.0</td>\n",
       "      <td>0.0</td>\n",
       "      <td>0.0</td>\n",
       "      <td>204.628191</td>\n",
       "      <td>380.401316</td>\n",
       "    </tr>\n",
       "  </tbody>\n",
       "</table>\n",
       "<p>5 rows × 29 columns</p>\n",
       "</div>"
      ],
      "text/plain": [
       "         DATE  PRODUCT_ID  SELLING_PRICE  COST_PRICE  COMPETITOR_PRICE  \\\n",
       "0  2020-01-01           1     361.072475  205.136907        364.659924   \n",
       "1  2020-01-01           2      42.896200   36.296394         43.856067   \n",
       "2  2020-01-01           3      49.305021   25.475475         52.902257   \n",
       "3  2020-01-01           4     192.328490  146.093738        203.120787   \n",
       "4  2020-01-01           5     463.593618  258.965427        424.871669   \n",
       "\n",
       "         SALES  IS_PROMOTION  QUANTITY   CATEGORY    SUBCATEGORY  ...  \\\n",
       "0  770167.5884           0.0     147.0     Bakery          Bread  ...   \n",
       "1  170555.2912           0.0     204.0     Bakery          Cakes  ...   \n",
       "2  113598.7675           0.0     520.0  Beverages    Soft Drinks  ...   \n",
       "3  244257.1826           0.0     994.0   Cleaning          Wipes  ...   \n",
       "4  543331.7209           0.0     699.0   Cleaning  Disinfectants  ...   \n",
       "\n",
       "  7_day_rolling_avg_quantity 1_day_lag_quantity 7_day_lag_quantity  \\\n",
       "0                      147.0                NaN                NaN   \n",
       "1                      204.0                NaN                NaN   \n",
       "2                      520.0                NaN                NaN   \n",
       "3                      994.0                NaN                NaN   \n",
       "4                      699.0                NaN                NaN   \n",
       "\n",
       "  Price_Above_Competitor Price_Below_Competitor  Days_Since_Last_Promotion  \\\n",
       "0                    0.0                    1.0                        0.0   \n",
       "1                    0.0                    1.0                        0.0   \n",
       "2                    0.0                    1.0                        0.0   \n",
       "3                    0.0                    1.0                        0.0   \n",
       "4                    1.0                    0.0                        0.0   \n",
       "\n",
       "   Competitor_Price_Change  Selling_Price_Daily_Change  Profit_Margin  \\\n",
       "0                      0.0                         0.0     155.935568   \n",
       "1                      0.0                         0.0       6.599806   \n",
       "2                      0.0                         0.0      23.829546   \n",
       "3                      0.0                         0.0      46.234753   \n",
       "4                      0.0                         0.0     204.628191   \n",
       "\n",
       "       NEW_CP  \n",
       "0  326.491797  \n",
       "1   39.265752  \n",
       "2   47.365098  \n",
       "3  181.860595  \n",
       "4  380.401316  \n",
       "\n",
       "[5 rows x 29 columns]"
      ]
     },
     "execution_count": 37,
     "metadata": {},
     "output_type": "execute_result"
    }
   ],
   "source": [
    "df.head()"
   ]
  },
  {
   "cell_type": "code",
   "execution_count": 43,
   "id": "c26dcee0-1f64-4ce6-bebd-dc7cf601ac2f",
   "metadata": {},
   "outputs": [
    {
     "data": {
      "text/plain": [
       "1.0"
      ]
     },
     "execution_count": 43,
     "metadata": {},
     "output_type": "execute_result"
    }
   ],
   "source": [
    "df['NEW_CP'].corr(df['COMPETITOR_PRICE'])"
   ]
  },
  {
   "cell_type": "code",
   "execution_count": 41,
   "id": "19486bc2-4d10-4089-ab10-48f3b678fdc2",
   "metadata": {},
   "outputs": [
    {
     "data": {
      "text/plain": [
       "0.9932988413425766"
      ]
     },
     "execution_count": 41,
     "metadata": {},
     "output_type": "execute_result"
    }
   ],
   "source": [
    "df['NEW_CP'].corr(df['SELLING_PRICE'])"
   ]
  },
  {
   "cell_type": "code",
   "execution_count": null,
   "id": "3599d8f6-9268-4286-8fe3-cc04df83a822",
   "metadata": {},
   "outputs": [],
   "source": []
  }
 ],
 "metadata": {
  "kernelspec": {
   "display_name": "Python 3 (ipykernel)",
   "language": "python",
   "name": "python3"
  },
  "language_info": {
   "codemirror_mode": {
    "name": "ipython",
    "version": 3
   },
   "file_extension": ".py",
   "mimetype": "text/x-python",
   "name": "python",
   "nbconvert_exporter": "python",
   "pygments_lexer": "ipython3",
   "version": "3.9.19"
  }
 },
 "nbformat": 4,
 "nbformat_minor": 5
}
