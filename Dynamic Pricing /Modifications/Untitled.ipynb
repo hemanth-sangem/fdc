{
 "cells": [
  {
   "cell_type": "code",
   "execution_count": 4,
   "id": "333aeaed-ee5a-461c-a7ff-34721c7f2a1f",
   "metadata": {},
   "outputs": [],
   "source": [
    "import pandas as pd\n",
    "import numpy as np\n",
    "import random"
   ]
  },
  {
   "cell_type": "code",
   "execution_count": 2,
   "id": "2a776ec2-ac2a-463e-95f6-74aeddbfcd45",
   "metadata": {},
   "outputs": [],
   "source": [
    "df = pd.read_csv('Final_train_data.csv')"
   ]
  },
  {
   "cell_type": "code",
   "execution_count": 33,
   "id": "5a68a717-32c1-4a7b-9c74-17faffe6dfa8",
   "metadata": {},
   "outputs": [],
   "source": [
    "s=random.uniform(0.7,1.3)"
   ]
  },
  {
   "cell_type": "code",
   "execution_count": 34,
   "id": "b8051448-faab-4e12-9b94-de9a84610bdd",
   "metadata": {},
   "outputs": [
    {
     "data": {
      "text/plain": [
       "1.2591630702552377"
      ]
     },
     "execution_count": 34,
     "metadata": {},
     "output_type": "execute_result"
    }
   ],
   "source": [
    "s"
   ]
  },
  {
   "cell_type": "code",
   "execution_count": null,
   "id": "12ab6e43-d14c-41c0-9671-2b73f2ea182b",
   "metadata": {},
   "outputs": [],
   "source": []
  }
 ],
 "metadata": {
  "kernelspec": {
   "display_name": "Python 3 (ipykernel)",
   "language": "python",
   "name": "python3"
  },
  "language_info": {
   "codemirror_mode": {
    "name": "ipython",
    "version": 3
   },
   "file_extension": ".py",
   "mimetype": "text/x-python",
   "name": "python",
   "nbconvert_exporter": "python",
   "pygments_lexer": "ipython3",
   "version": "3.9.19"
  }
 },
 "nbformat": 4,
 "nbformat_minor": 5
}
